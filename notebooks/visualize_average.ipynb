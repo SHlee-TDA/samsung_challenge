{
 "cells": [
  {
   "cell_type": "code",
   "execution_count": null,
   "metadata": {},
   "outputs": [],
   "source": [
    "import pickle\n",
    "from pathlib import Path\n",
    "from PIL import Image\n",
    "import numpy as np\n",
    "# Notebook widget for interactive exploration\n",
    "import ipywidgets as widgets\n",
    "from ipywidgets import interact, interact_manual\n",
    "import matplotlib.pyplot as plt\n",
    "from matplotlib.pyplot import imshow\n",
    "import cv2 as cv\n",
    "from IPython.core.display import display, HTML\n",
    "display(HTML(\"<style>.container { width:100% !important; }</style>\"))"
   ]
  },
  {
   "cell_type": "code",
   "execution_count": null,
   "metadata": {},
   "outputs": [],
   "source": [
    "from dotenv import load_dotenv, find_dotenv\n",
    "\n",
    "# Load the .ENV path. \n",
    "load_dotenv(find_dotenv())\n",
    "\n",
    "# Get Env variable on the pathing. \n",
    "import os\n",
    "PATH_DATA_INTERIM=os.getenv(\"PATH_DATA_INTERIM\")\n",
    "PATH_DATA_RAW=os.getenv(\"PATH_DATA_RAW\")"
   ]
  },
  {
   "cell_type": "code",
   "execution_count": null,
   "metadata": {},
   "outputs": [],
   "source": [
    "# Load the training data, ~5GB\n",
    "import pickle\n",
    "from pathlib import Path\n",
    "with open(Path(PATH_DATA_INTERIM) / \"train_data.p\", 'rb') as pickle_file:\n",
    "    data_train = pickle.load(pickle_file)\n",
    "# Load the validation data, about 1.3GB\n",
    "with open(Path(PATH_DATA_INTERIM) / \"val_data.p\", 'rb') as pickle_file:\n",
    "    data_val = pickle.load(pickle_file)"
   ]
  },
  {
   "cell_type": "code",
   "execution_count": null,
   "metadata": {
    "scrolled": false
   },
   "outputs": [],
   "source": [
    "# Compute mean train image\n",
    "# Tuple slicing: https://stackoverflow.com/questions/33829535/how-to-slice-a-list-of-tuples-in-python\n",
    "# Get a list of all the training images\n",
    "images_train = list(list(zip(*data_train))[0])\n",
    "# Compute its mean \n",
    "image_train_mean = np.mean(images_train, axis=0)\n",
    "\n",
    "# Compute mean validation image\n",
    "images_val = list(list(zip(*data_val))[0])\n",
    "# Compute its mean \n",
    "image_val_mean = np.mean(images_val, axis=0)"
   ]
  },
  {
   "cell_type": "code",
   "execution_count": null,
   "metadata": {},
   "outputs": [],
   "source": [
    "f, axarr = plt.subplots(1,2)\n",
    "axarr[0].imshow(image_train_mean, cmap='gray')\n",
    "axarr[0].set_title(\"Training Dataset\")\n",
    "axarr[1].imshow(image_val_mean, cmap='gray')    \n",
    "axarr[1].set_title(\"Validation Dataset\")\n",
    "f.set_size_inches(18.5, 10.5)\n",
    "f.suptitle('Composite Figure of Mean Image Intensity (No Normalization)', fontsize=40)   "
   ]
  },
  {
   "cell_type": "code",
   "execution_count": null,
   "metadata": {},
   "outputs": [],
   "source": [
    "# Quick image masking: https://stackoverflow.com/questions/40449781/convert-image-np-array-to-binary-image\n",
    "# Make all non-white pixels black. \n",
    "\n",
    "@interact\n",
    "def show_binary_image(threshold=(0,255,0.5)):\n",
    "    image_train_mean_binarized = 1.0 * (image_train_mean < threshold)\n",
    "    image_val_mean_binarized = 1.0 * (image_val_mean < threshold)\n",
    "    \n",
    "    f, axarr = plt.subplots(1,2)\n",
    "    axarr[0].imshow(image_train_mean_binarized, cmap='gray')\n",
    "    axarr[0].set_title(\"Training Dataset\")\n",
    "    axarr[1].imshow(image_val_mean_binarized, cmap='gray')    \n",
    "    axarr[1].set_title(\"Validation Dataset\")\n",
    "    f.set_size_inches(18.5, 10.5)\n",
    "    f.suptitle('Negative Threshold Filtered Images', fontsize=45)"
   ]
  },
  {
   "cell_type": "code",
   "execution_count": null,
   "metadata": {},
   "outputs": [],
   "source": [
    "# Quick image masking: https://stackoverflow.com/questions/40449781/convert-image-np-array-to-binary-image\n",
    "# Make all non-white pixels black. \n",
    "\n",
    "@interact\n",
    "def show_binary_image(threshold=(0,255,0.5)):    \n",
    "    img_train_norm = np.zeros((137, 236))\n",
    "    img_train_norm = cv.normalize(image_train_mean,  img_train_norm, 0, 255, cv.NORM_MINMAX)\n",
    "    \n",
    "    img_val_norm = np.zeros((137, 236))\n",
    "    img_val_norm = cv.normalize(image_val_mean,  img_val_norm, 0, 255, cv.NORM_MINMAX)\n",
    "    \n",
    "    image_train_norm_binarized = 1.0 * (img_train_norm < threshold)\n",
    "    image_val_norm_binarized = 1.0 * (img_val_norm < threshold)\n",
    "    \n",
    "    f, axarr = plt.subplots(1,2)\n",
    "    axarr[0].imshow(image_train_norm_binarized, cmap='gray')\n",
    "    axarr[0].set_title(\"Training Dataset\")\n",
    "    axarr[1].imshow(image_val_norm_binarized, cmap='gray')    \n",
    "    axarr[1].set_title(\"Validation Dataset\")\n",
    "    f.set_size_inches(18.5, 10.5)\n",
    "    f.suptitle('Negative Threshold Filtered Images AFTER image intensity normalization', fontsize=45)\n"
   ]
  },
  {
   "cell_type": "code",
   "execution_count": null,
   "metadata": {},
   "outputs": [],
   "source": []
  }
 ],
 "metadata": {
  "kernelspec": {
   "display_name": "Python 3",
   "language": "python",
   "name": "python3"
  },
  "language_info": {
   "codemirror_mode": {
    "name": "ipython",
    "version": 3
   },
   "file_extension": ".py",
   "mimetype": "text/x-python",
   "name": "python",
   "nbconvert_exporter": "python",
   "pygments_lexer": "ipython3",
   "version": "3.8.1"
  },
  "toc": {
   "base_numbering": 1,
   "nav_menu": {},
   "number_sections": true,
   "sideBar": true,
   "skip_h1_title": false,
   "title_cell": "Table of Contents",
   "title_sidebar": "Contents",
   "toc_cell": false,
   "toc_position": {},
   "toc_section_display": true,
   "toc_window_display": false
  }
 },
 "nbformat": 4,
 "nbformat_minor": 1
}
