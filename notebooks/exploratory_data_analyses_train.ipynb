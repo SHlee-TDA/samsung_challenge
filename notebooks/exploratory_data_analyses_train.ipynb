{
 "cells": [
  {
   "cell_type": "code",
   "execution_count": null,
   "metadata": {},
   "outputs": [],
   "source": [
    "import pandas as pd\n",
    "import numpy as np\n",
    "import plotly.express as px\n",
    "df = pd.read_csv(r\"C:\\Git\\bengali.ai\\data\\raw\\train.csv\")"
   ]
  },
  {
   "cell_type": "code",
   "execution_count": null,
   "metadata": {},
   "outputs": [],
   "source": [
    "fig = px.histogram(df, x=\"grapheme_root\", histnorm='probability', title=\"Grapheme Occurance Count in order of Grapheme Root\")\n",
    "fig.show()"
   ]
  },
  {
   "cell_type": "code",
   "execution_count": null,
   "metadata": {},
   "outputs": [],
   "source": [
    "# Grapheme Count: \n",
    "dfb = df.groupby(\"grapheme_root\").count()\n",
    "fig = px.bar(dfb[\"grapheme\"].sort_values(), y=\"grapheme\", title=\"Grapheme Occurance Count Sorted from Low to High\")\n",
    "fig.show()"
   ]
  },
  {
   "cell_type": "code",
   "execution_count": null,
   "metadata": {},
   "outputs": [],
   "source": [
    "# Vowel Diacritic Count\n",
    "fig = px.histogram(df, x=\"vowel_diacritic\", title=\"Vowel Diacritic Occurance Count\")\n",
    "fig.show()"
   ]
  },
  {
   "cell_type": "code",
   "execution_count": null,
   "metadata": {},
   "outputs": [],
   "source": [
    "# Vowel Diacritic Count: \n",
    "dfb = df.groupby(\"vowel_diacritic\").count()\n",
    "fig = px.bar(dfb[\"grapheme\"].sort_values(), y=\"grapheme\", title=\"Vowel Diacritic Occurance Count Sorted from Low to High\")\n",
    "fig.show()"
   ]
  },
  {
   "cell_type": "code",
   "execution_count": null,
   "metadata": {},
   "outputs": [],
   "source": [
    "fig = px.histogram(df, x=\"consonant_diacritic\", title=\"Vowel Diacritic Occurance Count\")\n",
    "fig.show()"
   ]
  },
  {
   "cell_type": "code",
   "execution_count": null,
   "metadata": {},
   "outputs": [],
   "source": [
    "# Grapheme Count: \n",
    "dfb = df.groupby(\"consonant_diacritic\").count()\n",
    "fig = px.bar(dfb[\"grapheme\"].sort_values(), y=\"grapheme\", title=\"Consonant Diacritic Occurance Count Sorted from Low to High\")\n",
    "fig.show()"
   ]
  }
 ],
 "metadata": {
  "kernelspec": {
   "display_name": "Python 3",
   "language": "python",
   "name": "python3"
  },
  "language_info": {
   "codemirror_mode": {
    "name": "ipython",
    "version": 3
   },
   "file_extension": ".py",
   "mimetype": "text/x-python",
   "name": "python",
   "nbconvert_exporter": "python",
   "pygments_lexer": "ipython3",
   "version": "3.7.6"
  },
  "pycharm": {
   "stem_cell": {
    "cell_type": "raw",
    "metadata": {
     "collapsed": false
    },
    "source": [
     "%%\n",
     "\n",
     "import pandas as pd\n",
     "import numpy as np\n",
     "import plotly.express as px\n",
     "df = pd.read_csv(r\"C:\\Git\\bengali.ai\\data\\raw\\train.csv\")\n"
    ]
   }
  }
 },
 "nbformat": 4,
 "nbformat_minor": 1
}
